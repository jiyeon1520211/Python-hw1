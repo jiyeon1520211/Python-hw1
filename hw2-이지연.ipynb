{
 "cells": [
  {
   "cell_type": "markdown",
   "metadata": {},
   "source": [
    "# Python-HW2\n",
    "### 이름: 이지연\n",
    "### 학번: C189078"
   ]
  },
  {
   "cell_type": "raw",
   "metadata": {},
   "source": [
    "과일 재고가 아래와 같다\n",
    "inventory 라는 변수에 딕셔너리 형식으로 과일 이름을 key로 하고 value 는 1번째 요소에 가격, \n",
    "두번재 요소에 수량인 리스트로 재고를 작성하라.\n",
    "\n",
    "과일 재고\n",
    "       가격   수량\n",
    "바나나  500     10\n",
    "사과   1000     20\n",
    "키위    700     15\n",
    "배     1500     12"
   ]
  },
  {
   "cell_type": "code",
   "execution_count": 1,
   "metadata": {},
   "outputs": [],
   "source": [
    "# 아래 코드 완성\n",
    "inventory = {\"바나나\": [500, 10], \n",
    "             \"사과\": [1000, 20],\n",
    "             \"키위\": [700, 15],\n",
    "             \"배\": [1500, 12]}"
   ]
  },
  {
   "cell_type": "raw",
   "metadata": {},
   "source": [
    "손님이 와서 바나나 2개 사과 3개를 구입했다.\n",
    "손님이 구입한 물품에 대한 영수증을 출력하고 재고를 출력하는 프로그램을 작성하라.\n",
    "출력 시 정렬도 맞추어야 함.\n",
    "\n",
    "출력예) 주문이 다른 경우에도 제대로 동작해야 함.\n",
    "바나나 몇 개 필요한가요?: 3\n",
    "사과 몇 개 필요한가요?: 2\n",
    "키위 몇 개 필요한가요?: 0\n",
    "배 몇 개 필요한가요?: 0\n",
    "\n",
    "영수증\n",
    "------\n",
    "바나나   500 원 x  3 개 =  1500 원\n",
    "사과    1000 원 x  3 개 =  2000 원\n",
    "키위     700 원 x  3 개 =     0 원\n",
    "배      1500 원 x  3 개 =     0 원\n",
    "\n",
    "합계; 3500 원\n",
    "감사합니다\n",
    "\n",
    "재고\n",
    "------\n",
    "바나나   7 개\n",
    "사과    18 개\n",
    "키위    15 개\n",
    "배      12 개"
   ]
  },
  {
   "cell_type": "code",
   "execution_count": 2,
   "metadata": {},
   "outputs": [
    {
     "name": "stdout",
     "output_type": "stream",
     "text": [
      "바나나 몇 개 필요한가요?: 3\n",
      "사과 몇 개 필요한가요?: 2\n",
      "키위 몇 개 필요한가요?: 0\n",
      "배 몇 개 필요한가요?: 0\n",
      "\n",
      "영수증\n",
      "------\n",
      "바나나   500 원 x  3 개 =  1500 원\n",
      "사과  1000 원 x  2 개 =  2000 원\n",
      "키위   700 원 x  0 개 =     0 원\n",
      "배  1500 원 x  0 개 =     0 원\n",
      "\n",
      "합계:            3500 원\n",
      "감사합니다\n",
      "\n",
      "재고\n",
      "------\n",
      "바나나     7 개\n",
      "사과    18 개\n",
      "키위    15 개\n",
      "배    12 개\n"
     ]
    }
   ],
   "source": [
    "# input 프롬프트\n",
    "n_banna = int(input('바나나 몇 개 필요한가요?: '))\n",
    "n_apple = int(input('사과 몇 개 필요한가요?: '))\n",
    "n_kiwi = int(input('키위 몇 개 필요한가요?: '))\n",
    "n_pear = int(input('배 몇 개 필요한가요?: '))\n",
    "print()\n",
    "      \n",
    "# 과일 별 소계 및 합계 계산\n",
    "price_banana =  inventory[\"바나나\"][0]*n_banna \n",
    "price_apple = inventory[\"사과\"][0]*n_apple\n",
    "price_kiwi = inventory[\"키위\"][0]*n_kiwi\n",
    "price_pear = inventory[\"배\"][0]*n_pear\n",
    "total = price_banana + price_apple + price_kiwi + price_pear\n",
    "\n",
    "# print 영수증\n",
    "print(\"영수증\")\n",
    "print(\"------\")\n",
    "print(\"바나나 {:5d} 원 x {:2d} 개 = {:5d} 원\".format(inventory[\"바나나\"][0],n_banna, price_banana))\n",
    "print(\"사과 {:5d} 원 x {:2d} 개 = {:5d} 원\".format(inventory[\"사과\"][0], n_apple, price_apple))\n",
    "print(\"키위 {:5d} 원 x {:2d} 개 = {:5d} 원\".format(inventory[\"키위\"][0], n_kiwi, price_kiwi))\n",
    "print(\"배 {:5d} 원 x {:2d} 개 = {:5d} 원\".format(inventory[\"배\"][0], n_pear, price_pear))\n",
    "\n",
    "print()   # 1줄 빈칸\n",
    "print(\"합계: {:15d} 원\".format(total))\n",
    "print(\"감사합니다\")\n",
    "\n",
    "# Update inventory\n",
    "inventory[\"바나나\"][1] = inventory[\"바나나\"][1] - n_banna\n",
    "inventory[\"사과\"][1] =inventory[\"사과\"][1] - n_apple\n",
    "inventory[\"키위\"][1] = inventory[\"키위\"][1] - n_kiwi\n",
    "inventory[\"배\"][1] = inventory[\"배\"][1] - n_pear\n",
    "\n",
    "# print 재고\n",
    "print()  # 1줄 빈칸\n",
    "print(\"재고\")\n",
    "print(\"------\")\n",
    "print(\"바나나 {:5d} 개\".format(inventory[\"바나나\"][1]))\n",
    "print(\"사과 {:5d} 개\".format(inventory[\"사과\"][1]))\n",
    "print(\"키위 {:5d} 개\".format(inventory[\"키위\"][1]))\n",
    "print(\"배 {:5d} 개\".format(inventory[\"배\"][1]))"
   ]
  },
  {
   "cell_type": "code",
   "execution_count": null,
   "metadata": {},
   "outputs": [],
   "source": []
  }
 ],
 "metadata": {
  "kernelspec": {
   "display_name": "Python 3 (ipykernel)",
   "language": "python",
   "name": "python3"
  },
  "language_info": {
   "codemirror_mode": {
    "name": "ipython",
    "version": 3
   },
   "file_extension": ".py",
   "mimetype": "text/x-python",
   "name": "python",
   "nbconvert_exporter": "python",
   "pygments_lexer": "ipython3",
   "version": "3.10.9"
  }
 },
 "nbformat": 4,
 "nbformat_minor": 4
}
