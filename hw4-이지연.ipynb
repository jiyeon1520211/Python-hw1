{
 "cells": [
  {
   "cell_type": "markdown",
   "metadata": {},
   "source": [
    "## 파이썬 HW 4\n",
    "이름: 이지연\n",
    "\n",
    "학번: C189078"
   ]
  },
  {
   "cell_type": "markdown",
   "metadata": {},
   "source": [
    "### 문제 1)\n",
    "(a) while문을 사용해 1부터 1000까지의 자연수 중 3의 배수의 중 12의 배수가 아닌 수의 합   \n",
    "- 3장 연습문제 Q2 참고"
   ]
  },
  {
   "cell_type": "code",
   "execution_count": 1,
   "metadata": {},
   "outputs": [
    {
     "name": "stdout",
     "output_type": "stream",
     "text": [
      "125001\n"
     ]
    }
   ],
   "source": [
    "result = 0  # accumulator\n",
    "i = 1       # loop variable 초기치\n",
    "\n",
    "# code 추가 시작\n",
    "while i <= 1000:\n",
    "    if i % 3 == 0 and i % 12 !=0:\n",
    "        result += i\n",
    "    i += 1\n",
    "\n",
    "# code 추가 종료\n",
    "\n",
    "print(result)"
   ]
  },
  {
   "cell_type": "markdown",
   "metadata": {},
   "source": [
    "(b) 문제 1(a)를 for loop를 이용해서 다시 작성하라"
   ]
  },
  {
   "cell_type": "code",
   "execution_count": 2,
   "metadata": {},
   "outputs": [
    {
     "name": "stdout",
     "output_type": "stream",
     "text": [
      "125001\n"
     ]
    }
   ],
   "source": [
    "result = 0  # accumulator\n",
    "\n",
    "# code 추가 시작\n",
    "for i in range(1, 1001):\n",
    "    if i % 3 == 0 and i % 12 !=0:\n",
    "        result += i\n",
    "\n",
    "# code 추가 종료\n",
    "     \n",
    "print(result)"
   ]
  },
  {
   "cell_type": "markdown",
   "metadata": {},
   "source": [
    "### 문제 2)\n",
    "(a) while문을 사용하여 다음과 같이 별(*)을 표시하는 프로그램 작성   \n",
    "- 3장 연습문제 Q2 참고\n",
    "\n",
    "<출력>\n",
    "```\n",
    "*****\n",
    "****\n",
    "***\n",
    "**\n",
    "*\n",
    "```"
   ]
  },
  {
   "cell_type": "code",
   "execution_count": 3,
   "metadata": {},
   "outputs": [
    {
     "name": "stdout",
     "output_type": "stream",
     "text": [
      "*****\n",
      "****\n",
      "***\n",
      "**\n",
      "*\n"
     ]
    }
   ],
   "source": [
    "# code 추가\n",
    "row = 5\n",
    "\n",
    "while row > 0:\n",
    "    print('*' * row)\n",
    "    row -= 1"
   ]
  },
  {
   "cell_type": "markdown",
   "metadata": {},
   "source": [
    "(b) 문제 2(a)를 for loop를 이용해서 다시 작성하라"
   ]
  },
  {
   "cell_type": "code",
   "execution_count": 4,
   "metadata": {},
   "outputs": [
    {
     "name": "stdout",
     "output_type": "stream",
     "text": [
      "*****\n",
      "****\n",
      "***\n",
      "**\n",
      "*\n"
     ]
    }
   ],
   "source": [
    "# code 추가\n",
    "for row in range(5, 0, -1):\n",
    "    print('*' * row)"
   ]
  },
  {
   "cell_type": "markdown",
   "metadata": {},
   "source": [
    "###  문제 3)\n",
    "for 문을 사용해서 1부터 10까지의 숫자를 제곱을 담은 튜플을 작성   \n",
    "<출력>   \n",
    "(1, 4, 9, 16, 25, 36, 49, 64, 81, 100)"
   ]
  },
  {
   "cell_type": "code",
   "execution_count": 5,
   "metadata": {},
   "outputs": [
    {
     "name": "stdout",
     "output_type": "stream",
     "text": [
      "(1, 4, 9, 16, 25, 36, 49, 64, 81, 100)\n"
     ]
    }
   ],
   "source": [
    "result = []\n",
    "\n",
    "# code 추가\n",
    "for i in range(1, 11):\n",
    "    result.append(i**2)\n",
    "    \n",
    "result = tuple(result)\n",
    "\n",
    "# code 추가 종료\n",
    "\n",
    "print(result)"
   ]
  },
  {
   "cell_type": "markdown",
   "metadata": {},
   "source": [
    "### 문제 4)\n",
    "리스트 중 70점 이상의 평균을 구하는 프로그램을 작성하라\n",
    "- 3장 연습문제 Q5 참고"
   ]
  },
  {
   "cell_type": "code",
   "execution_count": 6,
   "metadata": {},
   "outputs": [
    {
     "name": "stdout",
     "output_type": "stream",
     "text": [
      "79.0\n"
     ]
    }
   ],
   "source": [
    "A = [70, 60, 55, 75, 95, 90, 80, 80, 85, 100]\n",
    "\n",
    "# code 추가\n",
    "total = 0\n",
    "\n",
    "for score in A:\n",
    "    total += score\n",
    "    \n",
    "average = total / len(A)\n",
    "\n",
    "# code 추가 종료\n",
    "\n",
    "print(average)"
   ]
  },
  {
   "cell_type": "markdown",
   "metadata": {},
   "source": [
    "### 문제 5)\n",
    "(a) 리스트 중에서 홀수와 짝수를 저장하는 리스트를 만들라\n",
    "- 3장 연습문제 Q6 참고"
   ]
  },
  {
   "cell_type": "code",
   "execution_count": 7,
   "metadata": {},
   "outputs": [
    {
     "name": "stdout",
     "output_type": "stream",
     "text": [
      "[1, 3, 5, 7, 9]\n",
      "[2, 4, 6, 8, 10]\n"
     ]
    }
   ],
   "source": [
    "numbers = [1, 2, 3, 4, 5, 6, 7, 8, 9, 10]\n",
    "odd_result = []\n",
    "even_result = []\n",
    "\n",
    "# code 추가\n",
    "for num in numbers:\n",
    "    if num % 2 == 0:\n",
    "        even_result.append(num)\n",
    "    else:\n",
    "        odd_result.append(num)\n",
    "\n",
    "# code 추가 종료\n",
    "        \n",
    "print(odd_result)\n",
    "print(even_result)"
   ]
  },
  {
   "cell_type": "markdown",
   "metadata": {},
   "source": [
    "(b) 리스트 중에서 짝수를 저장하는 리스트 내포(list comprehension) 명령을 만들라"
   ]
  },
  {
   "cell_type": "code",
   "execution_count": 8,
   "metadata": {},
   "outputs": [
    {
     "name": "stdout",
     "output_type": "stream",
     "text": [
      "[2, 4, 6, 8, 10]\n"
     ]
    }
   ],
   "source": [
    "# code 추가\n",
    "numbers = [1, 2, 3, 4, 5, 6, 7, 8, 9, 10]\n",
    "even_result = [num for num in numbers if num % 2 == 0]\n",
    "\n",
    "# code 추가 종료\n",
    "\n",
    "print(even_result)"
   ]
  },
  {
   "cell_type": "markdown",
   "metadata": {},
   "source": [
    "### 문제 6)\n",
    "다음 리스트는 (책 제목, 저자, 발간년도)를 원소로 가진다.    "
   ]
  },
  {
   "cell_type": "code",
   "execution_count": 9,
   "metadata": {},
   "outputs": [],
   "source": [
    "books = [(\"A Tale of Two Cities\", \"Charles Dickens\", 1859), \n",
    "         (\"Crime and Punishment\", \"Fyodor Dostoyevski\", 1866),\n",
    "         (\"Heart of Darkness\", \"Joseph Conrad\", 1899), \n",
    "         (\"Brave New World\", \"Aldous Huxley\", 1932), \n",
    "         (\"The Stranger\", \"Albert Camus\", 1942)]"
   ]
  },
  {
   "cell_type": "markdown",
   "metadata": {},
   "source": [
    "(a) for를 이용하여 books 리스트에서 저자만 리스트로 저장하는 코드를 만들라  \n",
    "\n",
    "<출력>\n",
    "```\n",
    "['Charles Dickens', 'Fyodor Dostoyevski', 'Joseph Conrad', 'Aldous Huxley', 'Albert Camus']\n",
    "```"
   ]
  },
  {
   "cell_type": "code",
   "execution_count": 10,
   "metadata": {},
   "outputs": [
    {
     "name": "stdout",
     "output_type": "stream",
     "text": [
      "['Charles Dickens', 'Fyodor Dostoyevski', 'Joseph Conrad', 'Aldous Huxley', 'Albert Camus']\n"
     ]
    }
   ],
   "source": [
    "authors = []\n",
    "\n",
    "# code 추가\n",
    "for book in books:\n",
    "    authors.append(book[1])\n",
    "\n",
    "# code 추가 종료\n",
    "    \n",
    "print(authors)"
   ]
  },
  {
   "cell_type": "markdown",
   "metadata": {},
   "source": [
    "(b) 위 문제를 리스트내포(list comprehension)로 표현하라"
   ]
  },
  {
   "cell_type": "code",
   "execution_count": 11,
   "metadata": {},
   "outputs": [
    {
     "name": "stdout",
     "output_type": "stream",
     "text": [
      "['Charles Dickens', 'Fyodor Dostoyevski', 'Joseph Conrad', 'Aldous Huxley', 'Albert Camus']\n"
     ]
    }
   ],
   "source": [
    "# code 추가\n",
    "\n",
    "authors = [book[1]for book in books]\n",
    "\n",
    "# code 추가 종료\n",
    "\n",
    "print(authors)"
   ]
  },
  {
   "cell_type": "markdown",
   "metadata": {},
   "source": [
    "### 문제 7) Nested dictionary\n",
    "다음은 books 내용을 dictionary 형식으로 저장한 것이다. 1 수준 key (first level key)는 숫자로 되어 있고 value는 책 별로 dictionary 형식으로 되어 있다. "
   ]
  },
  {
   "cell_type": "code",
   "execution_count": 12,
   "metadata": {},
   "outputs": [],
   "source": [
    "books_dict = {0 : {\"title\" : \"A Tale of Two Cities\",\n",
    "                   \"author\" : \"Charles Dickens\",\n",
    "                   \"year\" : 1859},\n",
    "             1. : {\"title\" : \"Crime and Punishment\",\n",
    "                 \"author\" : \"Fyodor Dostoyevski\",\n",
    "                 \"year\" : 1866},\n",
    "             2 : {\"title\" : \"Heart of Darkness\",\n",
    "                 \"author\" : \"Joseph Conrad\",\n",
    "                 \"year\" : 1899},\n",
    "             3 : {\"title\" : \"Brave New World\",\n",
    "                 \"author\" : \"Aldous Huxley\",\n",
    "                 \"year\" : 1932},\n",
    "             4 : {\"title\" : \"The Stranger\",\n",
    "                 \"author\" : \"Albert Camus\",\n",
    "                 \"year\" : 1942}}"
   ]
  },
  {
   "cell_type": "markdown",
   "metadata": {},
   "source": [
    "- 이 딕셔너리의 1차 key는 숫자로 되어 있다. 첫번째 책에 대한 정보를 보려면 다음과 같은 명령을 사용한다. 여기서 0은 인덱스가 아니고 key인 것에 유의"
   ]
  },
  {
   "cell_type": "code",
   "execution_count": 13,
   "metadata": {},
   "outputs": [
    {
     "data": {
      "text/plain": [
       "'Charles Dickens'"
      ]
     },
     "execution_count": 13,
     "metadata": {},
     "output_type": "execute_result"
    }
   ],
   "source": [
    "books_dict[0][\"author\"]"
   ]
  },
  {
   "cell_type": "markdown",
   "metadata": {},
   "source": [
    "- 첫 번째 책에 대한 발간년도를 확인하려면 2수준의 key를 이용하여 다음과 같은 명령을 사용한다."
   ]
  },
  {
   "cell_type": "code",
   "execution_count": 14,
   "metadata": {},
   "outputs": [
    {
     "name": "stdout",
     "output_type": "stream",
     "text": [
      "1859\n"
     ]
    }
   ],
   "source": [
    "print(books_dict[0]['year'])"
   ]
  },
  {
   "cell_type": "markdown",
   "metadata": {},
   "source": [
    "a) for loop 이용하여 책 제목을 리스트로 저장하는 코드를 작성하라\n",
    "\n",
    "<결과>   \n",
    "```\n",
    "['A Tale of Two Cities', 'Crime and Punishment', 'Heart of Darkness', 'Brave New World', 'The Stranger']\n",
    "```"
   ]
  },
  {
   "cell_type": "code",
   "execution_count": 15,
   "metadata": {},
   "outputs": [
    {
     "name": "stdout",
     "output_type": "stream",
     "text": [
      "['A Tale of Two Cities', 'Crime and Punishment', 'Heart of Darkness', 'Brave New World', 'The Stranger']\n"
     ]
    }
   ],
   "source": [
    "titles = []\n",
    "\n",
    "# code 추가\n",
    "for book_key in books_dict:\n",
    "    titles.append(books_dict[book_key][\"title\"])\n",
    "\n",
    "# code 추가 종료\n",
    "    \n",
    "print(titles)"
   ]
  },
  {
   "cell_type": "markdown",
   "metadata": {},
   "source": [
    "b) list comprehension을 이용하여 책 제목을 리스트로 저장하는 코드를 작성하라"
   ]
  },
  {
   "cell_type": "code",
   "execution_count": 17,
   "metadata": {},
   "outputs": [
    {
     "name": "stdout",
     "output_type": "stream",
     "text": [
      "['A Tale of Two Cities', 'Crime and Punishment', 'Heart of Darkness', 'Brave New World', 'The Stranger']\n"
     ]
    }
   ],
   "source": [
    "# code 추가\n",
    "\n",
    "titles = [books_dict[book_key][\"title\"]for book_key in books_dict]\n",
    "\n",
    "# code 추가 종료\n",
    "\n",
    "print(titles)"
   ]
  },
  {
   "cell_type": "markdown",
   "metadata": {},
   "source": [
    "## 문제 8)\n",
    "문자열의 길이가 2개 보다 큰 경우 원소에 대해서 대문자로 변형한 리스트 작성\n",
    "\n",
    "<결과>   \n",
    "```\n",
    "['BAT', 'CAR', 'DOVE', 'PYTHON']\n",
    "```"
   ]
  },
  {
   "cell_type": "code",
   "execution_count": 18,
   "metadata": {},
   "outputs": [
    {
     "name": "stdout",
     "output_type": "stream",
     "text": [
      "['BAT', 'CAR', 'DOVE', 'PYTHON']\n"
     ]
    }
   ],
   "source": [
    "strings = ['a', 'as', 'bat', 'car', 'dove', 'python']\n",
    "\n",
    "# code 추가\n",
    "\n",
    "result = [string.upper() for string in strings if len(string) > 2]\n",
    "\n",
    "# code 추가 종료\n",
    "\n",
    "print(result)"
   ]
  },
  {
   "cell_type": "markdown",
   "metadata": {},
   "source": [
    "## 문제 9) Dictionary를 이용한 count\n",
    "아래 코드는 한 팀의 승패를 표시한 리스트에서 승패의 결과를 딕셔너리를 이용하여 집계하는 코드이다. W는 승, L은 패, D는 무승부를 나타낸다."
   ]
  },
  {
   "cell_type": "code",
   "execution_count": 19,
   "metadata": {},
   "outputs": [
    {
     "name": "stdout",
     "output_type": "stream",
     "text": [
      "{'W': 10, 'L': 6, 'D': 4}\n"
     ]
    }
   ],
   "source": [
    "results = [\"W\", \"W\", \"L\", \"D\", \"W\", \"L\", \"L\", \"L\", \"W\", \n",
    "           \"D\", \"W\", \"W\", \"D\", \"W\", \"D\", \"L\", \"W\", \"W\", \"L\", \"W\"]\n",
    "counts = {}\n",
    "for result in results:\n",
    "    if result in counts:\n",
    "        counts[result] += 1    # 해당 키가 있으면 result key의 value를 1 증가\n",
    "    else:\n",
    "        counts[result] = 1     # 해당 키가 기존에 없으면 새로 value 추가 \n",
    "print(counts)"
   ]
  },
  {
   "cell_type": "markdown",
   "metadata": {},
   "source": [
    "딕셔너리를 이용하여 아래 문단에서 단어가 몇 개씩 들어 있는지를 구하는 코드를 완성하라.\n",
    "\n",
    "<결과>\n",
    "\n",
    "```\n",
    "{'when': 1, 'he': 3, 'began': 1, 'implementing': 1, 'python,': 1, 'guido': 1, 'van': 2, 'rossum': 2, 'was': 2, 'also': 1, 'reading': 1, 'the': 3, 'published': 1, 'scripts': 1, 'from': 2, '“monty': 1, 'python’s': 1, 'flying': 1, 'circus”,': 1, 'a': 2, 'bbc': 1, 'comedy': 1, 'series': 1, '1970s.': 1, 'thought': 1, 'needed': 1, 'name': 1, 'that': 1, 'short,': 1, 'unique,': 1, 'and': 1, 'slightly': 1, 'mysterious,': 1, 'so': 1, 'decided': 1, 'to': 1, 'call': 1, 'language': 1, 'python.': 1}\n",
    "```"
   ]
  },
  {
   "cell_type": "code",
   "execution_count": 20,
   "metadata": {},
   "outputs": [
    {
     "name": "stdout",
     "output_type": "stream",
     "text": [
      "{'when': 1, 'he': 3, 'began': 1, 'implementing': 1, 'python': 2, 'guido': 1, 'van': 2, 'rossum': 2, 'was': 2, 'also': 1, 'reading': 1, 'the': 3, 'published': 1, 'scripts': 1, 'from': 2, '“monty': 1, 'python’s': 1, 'flying': 1, 'circus”': 1, 'a': 2, 'bbc': 1, 'comedy': 1, 'series': 1, '1970s': 1, 'thought': 1, 'needed': 1, 'name': 1, 'that': 1, 'short': 1, 'unique': 1, 'and': 1, 'slightly': 1, 'mysterious': 1, 'so': 1, 'decided': 1, 'to': 1, 'call': 1, 'language': 1}\n"
     ]
    }
   ],
   "source": [
    "paragraph = \\\n",
    "'''\n",
    "When he began implementing Python, Guido van Rossum was also reading the published scripts \n",
    "from “Monty Python’s Flying Circus”, a BBC comedy series from the 1970s. \n",
    "Van Rossum thought he needed a name that was short, unique, and slightly mysterious, \n",
    "so he decided to call the language Python.\n",
    "'''\n",
    "\n",
    "words = paragraph.lower()\n",
    "words =words.split()\n",
    "\n",
    "counts = {}\n",
    "\n",
    "# code 추가\n",
    "for word in words:\n",
    "    word = word.strip(',.\"')\n",
    "    if word in counts:\n",
    "        counts[word] += 1\n",
    "    else:\n",
    "        counts[word] = 1\n",
    "\n",
    "# code 추가 종료\n",
    "\n",
    "print(counts)"
   ]
  },
  {
   "cell_type": "markdown",
   "metadata": {},
   "source": [
    "## 문제 10) Counter를 이용한 count\n",
    "Counter()는 dictionary 중 특수한 자료 구조를 가지는 클래스이다.   \n",
    "Counter()를 사용하려면 collections module을 import해야 한다."
   ]
  },
  {
   "cell_type": "code",
   "execution_count": 21,
   "metadata": {},
   "outputs": [
    {
     "name": "stdout",
     "output_type": "stream",
     "text": [
      "Counter({'W': 10, 'L': 6, 'D': 4})\n"
     ]
    }
   ],
   "source": [
    "from collections import Counter    # Counter()를 모듈 import\n",
    "results = [\"W\", \"W\", \"L\", \"D\", \"W\", \"L\", \"L\", \"L\", \"W\", \"D\", \"W\", \"W\", \"D\", \"W\", \"D\", \"L\", \"W\", \"W\", \"L\", \"W\"]\n",
    "\n",
    "count = Counter()    # Counter() object 생성\n",
    "for result in results:\n",
    "    count[result] += 1 \n",
    "    \n",
    "print(count)"
   ]
  },
  {
   "cell_type": "code",
   "execution_count": 22,
   "metadata": {},
   "outputs": [
    {
     "data": {
      "text/plain": [
       "[('W', 10), ('L', 6)]"
      ]
     },
     "execution_count": 22,
     "metadata": {},
     "output_type": "execute_result"
    }
   ],
   "source": [
    "count.most_common(2)  # 상위 2개를 표시"
   ]
  },
  {
   "cell_type": "markdown",
   "metadata": {},
   "source": [
    "(a) Counter를 이용하여 아래 문단에서 나오는 단어의 개수를 구하라."
   ]
  },
  {
   "cell_type": "code",
   "execution_count": 23,
   "metadata": {},
   "outputs": [
    {
     "name": "stdout",
     "output_type": "stream",
     "text": [
      "Counter({'he': 3, 'the': 3, 'van': 2, 'rossum': 2, 'was': 2, 'from': 2, 'a': 2, 'when': 1, 'began': 1, 'implementing': 1, 'python,': 1, 'guido': 1, 'also': 1, 'reading': 1, 'published': 1, 'scripts': 1, '“monty': 1, 'python’s': 1, 'flying': 1, 'circus”,': 1, 'bbc': 1, 'comedy': 1, 'series': 1, '1970s.': 1, 'thought': 1, 'needed': 1, 'name': 1, 'that': 1, 'short,': 1, 'unique,': 1, 'and': 1, 'slightly': 1, 'mysterious,': 1, 'so': 1, 'decided': 1, 'to': 1, 'call': 1, 'language': 1, 'python.': 1})\n"
     ]
    }
   ],
   "source": [
    "paragraph = \\\n",
    "'''\n",
    "When he began implementing Python, Guido van Rossum was also reading the published scripts \n",
    "from “Monty Python’s Flying Circus”, a BBC comedy series from the 1970s. \n",
    "Van Rossum thought he needed a name that was short, unique, and slightly mysterious, \n",
    "so he decided to call the language Python.\n",
    "'''\n",
    "\n",
    "# code 추가\n",
    "words = paragraph.lower().split()\n",
    "\n",
    "count = Counter(words)\n",
    "\n",
    "# code 추가 종료\n",
    "    \n",
    "print(count)"
   ]
  },
  {
   "cell_type": "markdown",
   "metadata": {},
   "source": [
    "(b) 가장 많이 나오는 단어 5개를 구하라. \n",
    "\n",
    "<결과>\n",
    "\n",
    "```\n",
    "[('he', 3), ('the', 3), ('van', 2), ('rossum', 2), ('was', 2)]\n",
    "```"
   ]
  },
  {
   "cell_type": "code",
   "execution_count": 24,
   "metadata": {},
   "outputs": [
    {
     "name": "stdout",
     "output_type": "stream",
     "text": [
      "[('he', 3), ('the', 3), ('van', 2), ('rossum', 2), ('was', 2)]\n"
     ]
    }
   ],
   "source": [
    "# code 추가\n",
    "words = paragraph.lower().split()\n",
    "\n",
    "count = Counter(words)\n",
    "\n",
    "most_common_words = count.most_common(5)\n",
    "\n",
    "print(most_common_words)"
   ]
  },
  {
   "cell_type": "code",
   "execution_count": null,
   "metadata": {},
   "outputs": [],
   "source": []
  }
 ],
 "metadata": {
  "kernelspec": {
   "display_name": "Python 3 (ipykernel)",
   "language": "python",
   "name": "python3"
  },
  "language_info": {
   "codemirror_mode": {
    "name": "ipython",
    "version": 3
   },
   "file_extension": ".py",
   "mimetype": "text/x-python",
   "name": "python",
   "nbconvert_exporter": "python",
   "pygments_lexer": "ipython3",
   "version": "3.10.9"
  }
 },
 "nbformat": 4,
 "nbformat_minor": 4
}
