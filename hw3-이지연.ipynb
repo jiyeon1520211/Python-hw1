{
 "cells": [
  {
   "cell_type": "markdown",
   "metadata": {},
   "source": [
    "# Python-HW3\n",
    "### 이름: 이지연\n",
    "### 학번: C189078"
   ]
  },
  {
   "cell_type": "markdown",
   "metadata": {},
   "source": [
    "1) 다음 리스트에 들어 있는 값의 평균을 구해 소수점 1째자리까지 계산하는 프로그램을 작성하라\n",
    "\n",
    "<출력>   \n",
    "평균 = 83.3"
   ]
  },
  {
   "cell_type": "code",
   "execution_count": 1,
   "metadata": {},
   "outputs": [
    {
     "name": "stdout",
     "output_type": "stream",
     "text": [
      "평균 = 83.33\n"
     ]
    }
   ],
   "source": [
    "# 코드\n",
    "grade = [73, 85, 92]\n",
    "average = sum(grade) / len(grade)  # 평균 계산\n",
    "print(\"평균 =\", format(average, '.2f'))"
   ]
  },
  {
   "cell_type": "markdown",
   "metadata": {},
   "source": [
    "2) 정수를 입력받아 몫과 나머지를 계산하여 아래와 같이 출력하는 프로그램을 작성하라.\n",
    "\n",
    "<입출력>   \n",
    "정수를 입력하세요... 12345   \n",
    "나눌 정수를 입력하세요...7   \n",
    "12345 / 7 = 7 x 1763 + 4 "
   ]
  },
  {
   "cell_type": "code",
   "execution_count": 2,
   "metadata": {},
   "outputs": [
    {
     "name": "stdout",
     "output_type": "stream",
     "text": [
      "정수를 입력하세요...12345\n",
      "나눌 정수를 입력하세요...7\n",
      "12345 / 7 = 7 x 1763 + 4\n"
     ]
    }
   ],
   "source": [
    "# 코드\n",
    "a = int(input(\"정수를 입력하세요...\"))    # 입력 1\n",
    "b = int(input(\"나눌 정수를 입력하세요...\"))   # 입력 2\n",
    "q = a // b # 몫\n",
    "r = a % b  # 나머지\n",
    "print(f\"{a} / {b} = {b} x {q} + {r}\")   # 출력"
   ]
  },
  {
   "cell_type": "markdown",
   "metadata": {},
   "source": [
    "3) 다음 값 중에서 실수로 표시해야 할 것은 어떤 것인가?   \n",
    "주택의 방의 갯수, 과목의 수강 인원, 라면 한 봉지의 무게, 자동차의 속도, 생년월일"
   ]
  },
  {
   "cell_type": "markdown",
   "metadata": {},
   "source": [
    "<답> 생년월일\n",
    "- 연도, 월, 일,을 포함한 날짜 정보를 정확하게 정하고 처리하기 위함"
   ]
  },
  {
   "cell_type": "markdown",
   "metadata": {},
   "source": [
    "4) 아래 주민등록번호(id)에서 생일을 구하여 아래와 같이 출력하라.   \n",
    "\n",
    "<출력>   \n",
    "생일은 11월 05일 입니다."
   ]
  },
  {
   "cell_type": "code",
   "execution_count": 3,
   "metadata": {},
   "outputs": [
    {
     "name": "stdout",
     "output_type": "stream",
     "text": [
      "생일은 11월 05일 입니다.\n"
     ]
    }
   ],
   "source": [
    "# 코드\n",
    "id = \"851105-1068234\"\n",
    "month = id[2:4] # 월 슬라이싱\n",
    "day =   id[4:6]   # 날짜 슬라이싱\n",
    "print(f\"생일은 {month}월 {day}일 입니다.\")   # 출력"
   ]
  },
  {
   "cell_type": "markdown",
   "metadata": {},
   "source": [
    "5) 다음 문장에서 파이썬이라는 말이 몇 번 나오는지 알아내고 출처에 < >표시가 있는 것을 이용하여 출처의 url 주소로 추출하여 출력하라. 아래의 실행 예에서 밑줄은 마크다운에서 자동으로 만드는 것으로 출력 시 고려하지 않아도 된다.\n",
    "\n",
    "<출력>   \n",
    "파이썬 단어의 갯수 = 2   \n",
    "참고문헌 url = https://ko.wikipedia.org/wiki/%ED%8C%8C%EC%9D%B4%EC%8D%AC"
   ]
  },
  {
   "cell_type": "code",
   "execution_count": 4,
   "metadata": {},
   "outputs": [
    {
     "name": "stdout",
     "output_type": "stream",
     "text": [
      "\"파이썬\" 단어의 갯수: 2\n",
      "참고문헌 url = https://ko.wikipedia.org/wiki/%ED%8C%8C%EC%9D%B4%EC%8D%AC\n"
     ]
    }
   ],
   "source": [
    "python = '''\n",
    "파이썬[3](영어: Python)은 1991년[4] 네덜란드계 프로그래머인 귀도 반 로섬[5]이 발표한 \n",
    "고급 프로그래밍 언어로, 플랫폼에 독립적이며 인터프리터식, 객체지향적, \n",
    "동적 타이핑(dynamically typed) 대화형 언어이다. \n",
    "파이썬이라는 이름은 귀도가 좋아하는 코미디 \"Monty Python's Flying Circus\"에서 따온 것이다. \n",
    "이름에서 고대신화에 나오는 커다란 뱀을 연상하는 경우도 있겠지만, \n",
    "이와는 무관하다. 다만 로고에는 뱀 두마리가 형상화 되어 있다.\n",
    "출처: 위키백과 <https://ko.wikipedia.org/wiki/%ED%8C%8C%EC%9D%B4%EC%8D%AC>\n",
    "'''\n",
    "\n",
    "# \"파이썬\" 단어의 갯수\n",
    "word_to_find = \"파이썬\"\n",
    "count_python = python.count(word_to_find)\n",
    "print(f'\"{word_to_find}\" 단어의 갯수: {count_python}')  # 출력\n",
    "\n",
    "# 출처의 URL 추출\n",
    "start_index = python.find('<')\n",
    "end_index = python.find('>')\n",
    "url = python[start_index + 1:end_index]\n",
    "print(f'참고문헌 url = {url}')"
   ]
  },
  {
   "cell_type": "markdown",
   "metadata": {},
   "source": [
    "6) 다음 문단은 공식 파이썬 문서에서 나오는 내용 중 한 문단이다.   "
   ]
  },
  {
   "cell_type": "code",
   "execution_count": 5,
   "metadata": {},
   "outputs": [],
   "source": [
    "# From <https://docs.python.org/3/faq/general.html#why-is-it-called-python>\n",
    "paragraph = \\\n",
    "'''\n",
    "When he began implementing Python, Guido van Rossum was also reading the published scripts \n",
    "from “Monty Python’s Flying Circus”, a BBC comedy series from the 1970s. \n",
    "Van Rossum thought he needed a name that was short, unique, and slightly mysterious, \n",
    "so he decided to call the language Python.\n",
    "'''"
   ]
  },
  {
   "cell_type": "markdown",
   "metadata": {},
   "source": [
    "a) 이 문단에서 나오는 단어의 총 개수 몇개인가. 여기서는 단어에 붙어 있는 문장 부호나 숫자는 단어의 일부로 생각한다.\n",
    "- 힌트) 문장을 소문자로 바꾸고, split() 함수 이용\n",
    "\n",
    "<출력>   \n",
    "Word count =  48\n"
   ]
  },
  {
   "cell_type": "code",
   "execution_count": 6,
   "metadata": {},
   "outputs": [
    {
     "name": "stdout",
     "output_type": "stream",
     "text": [
      "Word count = 48\n"
     ]
    }
   ],
   "source": [
    "# 코드\n",
    "p_lower = paragraph.lower() # 소문자 변환\n",
    "words = p_lower.split()  # 단어 추출\n",
    "word_count = len(words)  # 단어 개수\n",
    "print(\"Word count =\", word_count)   # 출력"
   ]
  },
  {
   "cell_type": "markdown",
   "metadata": {},
   "source": [
    "b) 이 문단에서 나오는 유일한 단어의 총 개수는 몇개인가?\n",
    "- 힌트) 집합 자료의 성질을 이용한다.\n",
    "\n",
    "<출력>   \n",
    "Unique word count =  39"
   ]
  },
  {
   "cell_type": "code",
   "execution_count": 7,
   "metadata": {},
   "outputs": [
    {
     "name": "stdout",
     "output_type": "stream",
     "text": [
      "Unique word count = 52\n"
     ]
    }
   ],
   "source": [
    "p_lower = python.lower()\n",
    "words = p_lower.split()\n",
    "unique_words = set(words)\n",
    "unique_word_count = len(unique_words)# 유일한 단어 개수\n",
    "print(\"Unique word count =\", unique_word_count)  # 출력"
   ]
  },
  {
   "cell_type": "markdown",
   "metadata": {},
   "source": [
    "c) 문단에 포함된 단어 중에서 사전 순서로 처음 10개 단어를 출력하라.\n",
    "- 힌트) 정렬과 리스트의 슬라이싱을 이용\n",
    "\n",
    "<출력>   \n",
    "['1970s.', 'a', 'also', 'and', 'bbc', 'began', 'call', 'circus”,', 'comedy', 'decided']"
   ]
  },
  {
   "cell_type": "code",
   "execution_count": 8,
   "metadata": {},
   "outputs": [
    {
     "name": "stdout",
     "output_type": "stream",
     "text": [
      "['1970s', 'BBC', 'Circus”', 'Flying', 'Guido', 'Python', 'Python', 'Python’s', 'Rossum', 'Rossum']\n"
     ]
    }
   ],
   "source": [
    "# 코드\n",
    "paragraph = paragraph.replace('.', '').replace(',', '').replace('\"', '')\n",
    "word_list = paragraph.split()\n",
    "sorted_words = sorted(word_list)\n",
    "first10_words = sorted_words[:10]    # 처음 10개 단어\n",
    "print(first10_words)"
   ]
  },
  {
   "cell_type": "markdown",
   "metadata": {},
   "source": [
    "7) 다음 튜플에 'peach'를 추가하라.\n",
    "\n",
    "<출력>   \n",
    "('apple', 'kiwi', 'orange', 'peach')"
   ]
  },
  {
   "cell_type": "code",
   "execution_count": 9,
   "metadata": {},
   "outputs": [
    {
     "name": "stdout",
     "output_type": "stream",
     "text": [
      "('apple', 'kiwi', 'orange', 'peach')\n"
     ]
    }
   ],
   "source": [
    "# 코드\n",
    "fruit = ('apple', 'kiwi', 'orange')\n",
    "fruit = fruit + ('peach',)    # 'peach' 추가\n",
    "print(fruit)"
   ]
  },
  {
   "cell_type": "markdown",
   "metadata": {},
   "source": [
    "8)   \n",
    "(a) 다음 dictionary에서 \"고진영\" key에 \"골프\" value를 추가 하라.\n",
    "\n",
    "<출력>   \n",
    "{'김연아': '피겨스케이팅', '류현진': '야구', '박지성': '축구', '귀도': '파이썬', '고진영': '골프'}"
   ]
  },
  {
   "cell_type": "code",
   "execution_count": 10,
   "metadata": {},
   "outputs": [
    {
     "name": "stdout",
     "output_type": "stream",
     "text": [
      "{'김연아': '피겨스케이팅', '류현진': '야구', '박지성': '축구', '귀도': '파이썬', '고진영': '골프'}\n"
     ]
    }
   ],
   "source": [
    "# 코드\n",
    "people = {\"김연아\":\"피겨스케이팅\", \"류현진\":\"야구\", \"박지성\":\"축구\", \"귀도\":\"파이썬\"}\n",
    "people[\"고진영\"] = \"골프\"     # 딕셔너리 추가 \n",
    "print(people)"
   ]
  },
  {
   "cell_type": "markdown",
   "metadata": {},
   "source": [
    "(b) 딕셔너리의 key를 가나다 순으로 출력하라\n",
    "\n",
    "<출력>   \n",
    "['고진영', '귀도', '김연아', '류현진', '박지성']"
   ]
  },
  {
   "cell_type": "code",
   "execution_count": 11,
   "metadata": {},
   "outputs": [
    {
     "name": "stdout",
     "output_type": "stream",
     "text": [
      "['고진영', '귀도', '김연아', '류현진', '박지성']\n"
     ]
    }
   ],
   "source": [
    "# 코드\n",
    "people = {\"김연아\": \"피겨스케이팅\", \"류현진\": \"야구\", \"박지성\": \"축구\", \"귀도\": \"파이썬\", \"고진영\": \"골프\"}\n",
    "sorted_keys = sorted(people.keys())\n",
    "\n",
    "print(sorted_keys)"
   ]
  },
  {
   "cell_type": "markdown",
   "metadata": {},
   "source": [
    "9) 다음 딕셔너리에 있는 점수의 평균을 구하라.\n",
    "- 힌트: list에 sum() 함수 이용\n",
    "    - 예) a = [1, 2, 3] 일 때 sum(a)를 하면 6을 얻는다.\n",
    "    \n",
    "<출력>   \n",
    "총점 =  240"
   ]
  },
  {
   "cell_type": "code",
   "execution_count": 12,
   "metadata": {},
   "outputs": [
    {
     "name": "stdout",
     "output_type": "stream",
     "text": [
      "총점 = 240\n"
     ]
    }
   ],
   "source": [
    "# 코드\n",
    "grade = {'영어':90, '수학':80, '과학':70}\n",
    "scores = list(grade.values())           # values 추출\n",
    "total_score = sum(scores) \n",
    "num_subjects = len(scores) \n",
    "print(f\"총점 = {total_score}\")    # 출력"
   ]
  },
  {
   "cell_type": "code",
   "execution_count": null,
   "metadata": {},
   "outputs": [],
   "source": []
  }
 ],
 "metadata": {
  "kernelspec": {
   "display_name": "Python 3 (ipykernel)",
   "language": "python",
   "name": "python3"
  },
  "language_info": {
   "codemirror_mode": {
    "name": "ipython",
    "version": 3
   },
   "file_extension": ".py",
   "mimetype": "text/x-python",
   "name": "python",
   "nbconvert_exporter": "python",
   "pygments_lexer": "ipython3",
   "version": "3.10.9"
  }
 },
 "nbformat": 4,
 "nbformat_minor": 4
}
