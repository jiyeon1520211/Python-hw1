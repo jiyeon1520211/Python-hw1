{
 "cells": [
  {
   "cell_type": "markdown",
   "metadata": {},
   "source": [
    "# Python-HW1\n",
    "## 이름: 이지연\n",
    "## 학번: C189078"
   ]
  },
  {
   "cell_type": "markdown",
   "metadata": {},
   "source": [
    "__1)__ 정수 2개를 입력 받아 평균을 구하는 프로그램을 완성하라.\n",
    "\n",
    "(실행 예)   \n",
    "첫번째 수자를 입력하세요: 15  \n",
    "두번째 수자를 입력하세요: 22  \n",
    "평균 =  18.5"
   ]
  },
  {
   "cell_type": "code",
   "execution_count": 1,
   "metadata": {},
   "outputs": [
    {
     "name": "stdout",
     "output_type": "stream",
     "text": [
      "첫번째 숫자를 입력하세요: 15\n",
      "두번째 숫자를 입력하세요: 22\n",
      "평균 =  18.5\n"
     ]
    }
   ],
   "source": [
    "a = int(input('첫번째 숫자를 입력하세요: '))\n",
    "b = int(input('두번째 숫자를 입력하세요: '))\n",
    "average = (a + b) / 2\n",
    "\n",
    "print('평균 = ', average)"
   ]
  },
  {
   "cell_type": "markdown",
   "metadata": {},
   "source": [
    "__2)__ 섭씨 온도를 입력받아 화씨온도로 출력하는 프로그램을 완성하라.\n",
    "\n",
    "$F = \\frac{9}{5}C + 32$   \n",
    "\n",
    "(실행 예)  \n",
    "섭씨 온도를 입력하세요: 29  \n",
    "\n",
    "섭씨 29.0도는 화씨 84.2 도 입니다."
   ]
  },
  {
   "cell_type": "code",
   "execution_count": 2,
   "metadata": {},
   "outputs": [
    {
     "name": "stdout",
     "output_type": "stream",
     "text": [
      "섭씨 온도를 입력하세요: 29\n",
      "\n",
      "섭씨 29.0도는 화씨 84.2 도 입니다.\n"
     ]
    }
   ],
   "source": [
    "temp_C = float(input('섭씨 온도를 입력하세요: '))\n",
    "temp_F = temp_C *1.8 + 32\n",
    "\n",
    "print()\n",
    "print('섭씨 {:0.1f}도는 화씨 {:0.1f} 도 입니다.'.format(temp_C, temp_F))"
   ]
  },
  {
   "cell_type": "markdown",
   "metadata": {},
   "source": [
    "__3)__ 반지름을 입력 받아 원의 둘레와 면적을 구하는 프로그램을 완성하라\n",
    "\n",
    "(실행 예)\n",
    "\n",
    "원의 반지름을 입력하시오: 3.5\n",
    "\n",
    "원의 반지름 = 3.50   \n",
    "면적 = 38.48   \n",
    "둘레 = 21.99"
   ]
  },
  {
   "cell_type": "code",
   "execution_count": 3,
   "metadata": {},
   "outputs": [
    {
     "name": "stdout",
     "output_type": "stream",
     "text": [
      "원의 반지름을 입력하시오:  3.5\n",
      "\n",
      "원의 반지름 = 3.50\n",
      "면적 = 38.48\n",
      "둘레 = 21.99\n"
     ]
    }
   ],
   "source": [
    "import math  # math module 사용\n",
    "# pi 값은 math.pi를 이용\n",
    "r = float(input('원의 반지름을 입력하시오:  '))\n",
    "area = math.pi * r**2\n",
    "circ =2 * math.pi * r\n",
    "\n",
    "print()\n",
    "print(\"원의 반지름 =\", format(r, '.2f'))\n",
    "print(\"면적 =\", format(area, '.2f'))\n",
    "print(\"둘레 =\", format(circ, '.2f'))"
   ]
  },
  {
   "cell_type": "markdown",
   "metadata": {},
   "source": [
    "__4)__ 주어진 문자열을 대칭이 되게 출력하는 프로그램을 완성하라.\n",
    "\n",
    "(실행 예)\n",
    "\n",
    "문자열을 입력하시오: Python\n",
    "\n",
    "PythonnohtyP"
   ]
  },
  {
   "cell_type": "code",
   "execution_count": 4,
   "metadata": {},
   "outputs": [
    {
     "name": "stdout",
     "output_type": "stream",
     "text": [
      "문자열을 입력하시오: Python\n",
      "\n",
      "PythonnohtyP\n"
     ]
    }
   ],
   "source": [
    "a = input('문자열을 입력하시오: ')\n",
    "new_string = a + a[::-1]\n",
    "print()\n",
    "print(new_string)"
   ]
  },
  {
   "cell_type": "markdown",
   "metadata": {},
   "source": [
    "__5)__ 성과 이름을 각각 입력받아서 전체 이름을 출력하는 프로그램을 완성하라\n",
    "\n",
    "(실행 예)    \n",
    "Enter your last name: Wood   \n",
    "Enter your first name: Tiger\n",
    "\n",
    "Name: Tiger Wood"
   ]
  },
  {
   "cell_type": "code",
   "execution_count": 5,
   "metadata": {},
   "outputs": [
    {
     "name": "stdout",
     "output_type": "stream",
     "text": [
      "Enter your last name: Wood\n",
      "Enter your first name: Tiger\n",
      "\n",
      "Name: Tiger Wood\n"
     ]
    }
   ],
   "source": [
    "last_name = input('Enter your last name: ')\n",
    "first_name = input('Enter your first name: ')\n",
    "name = first_name + \" \" + last_name\n",
    "print()\n",
    "print(\"Name:\", name)"
   ]
  },
  {
   "cell_type": "code",
   "execution_count": null,
   "metadata": {},
   "outputs": [],
   "source": []
  }
 ],
 "metadata": {
  "kernelspec": {
   "display_name": "Python 3 (ipykernel)",
   "language": "python",
   "name": "python3"
  },
  "language_info": {
   "codemirror_mode": {
    "name": "ipython",
    "version": 3
   },
   "file_extension": ".py",
   "mimetype": "text/x-python",
   "name": "python",
   "nbconvert_exporter": "python",
   "pygments_lexer": "ipython3",
   "version": "3.10.9"
  }
 },
 "nbformat": 4,
 "nbformat_minor": 4
}
